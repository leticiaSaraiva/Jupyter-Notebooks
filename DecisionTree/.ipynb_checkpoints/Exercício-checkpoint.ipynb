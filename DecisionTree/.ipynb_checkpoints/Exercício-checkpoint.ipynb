{
 "cells": [
  {
   "cell_type": "markdown",
   "metadata": {},
   "source": [
    "## Exercício - Titanic\n",
    "disponível em https://www.kaggle.com/c/titanic/overview\n",
    "\n",
    "### Letícia Saraiva Chaves, 402120"
   ]
  },
  {
   "cell_type": "markdown",
   "metadata": {},
   "source": [
    "#### Descrição\n",
    "O naufrágio do RMS Titanic é um dos naufrágios mais famosos da história. Em 15 de abril de 1912, durante sua viagem inaugural, o Titanic afundou após colidir com um iceberg, matando 1502 de 2224 passageiros e tripulantes. Essa tragédia chocou a comunidade internacional e levou a melhores regulamentações de segurança para os navios.\n",
    "\n",
    "Uma das razões pelas quais o naufrágio levou a tal perda de vidas foi que não havia botes salva-vidas suficientes para os passageiros e a tripulação. Embora houvesse algum elemento de sorte envolvido na sobrevivência do naufrágio, alguns grupos de pessoas eram mais propensos a sobreviver do que outros, como mulheres, crianças e a classe alta.\n",
    "\n",
    "Nesse desafio, a atividade é que você conclua a análise de que tipo de pessoa provavelmente sobreviverá. Em particular, solicitamos você deve aplicar classificadores de árvores de decisão para esta atividade.\n"
   ]
  },
  {
   "cell_type": "markdown",
   "metadata": {},
   "source": [
    "### Descrição do dataset\n",
    "Os dados foram divididos em dois grupos:\n",
    "\n",
    "conjunto de treinamento (train.csv)\n",
    "conjunto de teste (test.csv)\n",
    "O conjunto de treinamento deve ser usado para criar seus modelos de aprendizado de máquina. Para o conjunto de treinamento, fornecemos o resultado (também conhecido como \"verdade do solo\") para cada passageiro. Seu modelo será baseado em \"recursos\", como sexo e classe dos passageiros. Você também pode usar a engenharia de recursos para criar novos recursos.\n",
    "\n",
    "O conjunto de teste deve ser usado para ver o desempenho do seu modelo em dados não vistos. Para o conjunto de testes, não fornecemos a verdade básica para cada passageiro. É seu trabalho prever esses resultados. Para cada passageiro no conjunto de testes, use o modelo que você treinou para prever se eles sobreviveram ou não ao naufrágio do Titanic.\n",
    "\n",
    "Também incluímos gender_submission.csv, um conjunto de previsões que supõem que todas e apenas passageiras sobrevivem, como um exemplo da aparência de um arquivo de envio."
   ]
  },
  {
   "cell_type": "markdown",
   "metadata": {},
   "source": [
    "### Dicionário de Dados\n",
    "\n",
    "**Variable -\tDefinition\t- Key**\n",
    "\n",
    "survival - Survival\t- 0 = No, 1 = Yes\n",
    "\n",
    "pclass -\tTicket class -\t1 = 1st, 2 = 2nd, 3 = 3rd\n",
    "\n",
    "sex -\tSex\t\n",
    "\n",
    "Age\t- Age in years\t\n",
    "\n",
    "sibsp -\t# of siblings / spouses aboard the Titanic\t\n",
    "\n",
    "parch- # of parents / children aboard the Titanic\t\n",
    "\n",
    "ticket - Ticket number\t\n",
    "\n",
    "fare - Passenger fare\t\n",
    "\n",
    "cabin- Cabin number\t\n",
    "\n",
    "embarked- Port of Embarkation\tC = Cherbourg, Q = Queenstown, S = Southampton"
   ]
  },
  {
   "cell_type": "code",
   "execution_count": 3,
   "metadata": {},
   "outputs": [],
   "source": [
    "import pandas as pd\n",
    "from sklearn.tree import DecisionTreeClassifier\n",
    "from sklearn import tree\n",
    "from sklearn.model_selection import train_test_split\n",
    "from sklearn.metrics import accuracy_score\n",
    "from sklearn import datasets\n",
    "import numpy as np\n",
    "import matplotlib.pyplot as plt"
   ]
  },
  {
   "cell_type": "markdown",
   "metadata": {},
   "source": [
    "### Carregando os dados"
   ]
  },
  {
   "cell_type": "code",
   "execution_count": 4,
   "metadata": {},
   "outputs": [],
   "source": [
    "train_data = pd.read_csv('train.csv')\n",
    "teste_data = pd.read_csv('test.csv')\n",
    "\n",
    "train, test= train_test_split(train_data, test_size=0.2, random_state=42)"
   ]
  },
  {
   "cell_type": "code",
   "execution_count": 33,
   "metadata": {},
   "outputs": [
    {
     "data": {
      "text/html": [
       "<div>\n",
       "<style scoped>\n",
       "    .dataframe tbody tr th:only-of-type {\n",
       "        vertical-align: middle;\n",
       "    }\n",
       "\n",
       "    .dataframe tbody tr th {\n",
       "        vertical-align: top;\n",
       "    }\n",
       "\n",
       "    .dataframe thead th {\n",
       "        text-align: right;\n",
       "    }\n",
       "</style>\n",
       "<table border=\"1\" class=\"dataframe\">\n",
       "  <thead>\n",
       "    <tr style=\"text-align: right;\">\n",
       "      <th></th>\n",
       "      <th>PassengerId</th>\n",
       "      <th>Survived</th>\n",
       "      <th>Pclass</th>\n",
       "      <th>Name</th>\n",
       "      <th>Sex</th>\n",
       "      <th>Age</th>\n",
       "      <th>SibSp</th>\n",
       "      <th>Parch</th>\n",
       "      <th>Ticket</th>\n",
       "      <th>Fare</th>\n",
       "      <th>Cabin</th>\n",
       "      <th>Embarked</th>\n",
       "    </tr>\n",
       "  </thead>\n",
       "  <tbody>\n",
       "    <tr>\n",
       "      <th>331</th>\n",
       "      <td>332</td>\n",
       "      <td>0</td>\n",
       "      <td>1</td>\n",
       "      <td>Partner, Mr. Austen</td>\n",
       "      <td>male</td>\n",
       "      <td>45.5</td>\n",
       "      <td>0</td>\n",
       "      <td>0</td>\n",
       "      <td>113043</td>\n",
       "      <td>28.5000</td>\n",
       "      <td>C124</td>\n",
       "      <td>S</td>\n",
       "    </tr>\n",
       "    <tr>\n",
       "      <th>733</th>\n",
       "      <td>734</td>\n",
       "      <td>0</td>\n",
       "      <td>2</td>\n",
       "      <td>Berriman, Mr. William John</td>\n",
       "      <td>male</td>\n",
       "      <td>23.0</td>\n",
       "      <td>0</td>\n",
       "      <td>0</td>\n",
       "      <td>28425</td>\n",
       "      <td>13.0000</td>\n",
       "      <td>NaN</td>\n",
       "      <td>S</td>\n",
       "    </tr>\n",
       "    <tr>\n",
       "      <th>382</th>\n",
       "      <td>383</td>\n",
       "      <td>0</td>\n",
       "      <td>3</td>\n",
       "      <td>Tikkanen, Mr. Juho</td>\n",
       "      <td>male</td>\n",
       "      <td>32.0</td>\n",
       "      <td>0</td>\n",
       "      <td>0</td>\n",
       "      <td>STON/O 2. 3101293</td>\n",
       "      <td>7.9250</td>\n",
       "      <td>NaN</td>\n",
       "      <td>S</td>\n",
       "    </tr>\n",
       "    <tr>\n",
       "      <th>704</th>\n",
       "      <td>705</td>\n",
       "      <td>0</td>\n",
       "      <td>3</td>\n",
       "      <td>Hansen, Mr. Henrik Juul</td>\n",
       "      <td>male</td>\n",
       "      <td>26.0</td>\n",
       "      <td>1</td>\n",
       "      <td>0</td>\n",
       "      <td>350025</td>\n",
       "      <td>7.8542</td>\n",
       "      <td>NaN</td>\n",
       "      <td>S</td>\n",
       "    </tr>\n",
       "    <tr>\n",
       "      <th>813</th>\n",
       "      <td>814</td>\n",
       "      <td>0</td>\n",
       "      <td>3</td>\n",
       "      <td>Andersson, Miss. Ebba Iris Alfrida</td>\n",
       "      <td>female</td>\n",
       "      <td>6.0</td>\n",
       "      <td>4</td>\n",
       "      <td>2</td>\n",
       "      <td>347082</td>\n",
       "      <td>31.2750</td>\n",
       "      <td>NaN</td>\n",
       "      <td>S</td>\n",
       "    </tr>\n",
       "  </tbody>\n",
       "</table>\n",
       "</div>"
      ],
      "text/plain": [
       "     PassengerId  Survived  Pclass                                Name  \\\n",
       "331          332         0       1                 Partner, Mr. Austen   \n",
       "733          734         0       2          Berriman, Mr. William John   \n",
       "382          383         0       3                  Tikkanen, Mr. Juho   \n",
       "704          705         0       3             Hansen, Mr. Henrik Juul   \n",
       "813          814         0       3  Andersson, Miss. Ebba Iris Alfrida   \n",
       "\n",
       "        Sex   Age  SibSp  Parch             Ticket     Fare Cabin Embarked  \n",
       "331    male  45.5      0      0             113043  28.5000  C124        S  \n",
       "733    male  23.0      0      0              28425  13.0000   NaN        S  \n",
       "382    male  32.0      0      0  STON/O 2. 3101293   7.9250   NaN        S  \n",
       "704    male  26.0      1      0             350025   7.8542   NaN        S  \n",
       "813  female   6.0      4      2             347082  31.2750   NaN        S  "
      ]
     },
     "execution_count": 33,
     "metadata": {},
     "output_type": "execute_result"
    }
   ],
   "source": [
    "train.head()"
   ]
  },
  {
   "cell_type": "code",
   "execution_count": 34,
   "metadata": {},
   "outputs": [
    {
     "data": {
      "text/plain": [
       "(712, 12)"
      ]
     },
     "execution_count": 34,
     "metadata": {},
     "output_type": "execute_result"
    }
   ],
   "source": [
    "train.shape"
   ]
  },
  {
   "cell_type": "code",
   "execution_count": 36,
   "metadata": {},
   "outputs": [
    {
     "data": {
      "text/plain": [
       "(179, 12)"
      ]
     },
     "execution_count": 36,
     "metadata": {},
     "output_type": "execute_result"
    }
   ],
   "source": [
    "test.shape"
   ]
  },
  {
   "cell_type": "markdown",
   "metadata": {},
   "source": [
    "### Pré-processamento dos dados"
   ]
  },
  {
   "cell_type": "code",
   "execution_count": 37,
   "metadata": {},
   "outputs": [
    {
     "data": {
      "text/plain": [
       "PassengerId      0\n",
       "Survived         0\n",
       "Pclass           0\n",
       "Name             0\n",
       "Sex              0\n",
       "Age            140\n",
       "SibSp            0\n",
       "Parch            0\n",
       "Ticket           0\n",
       "Fare             0\n",
       "Cabin          553\n",
       "Embarked         2\n",
       "dtype: int64"
      ]
     },
     "execution_count": 37,
     "metadata": {},
     "output_type": "execute_result"
    }
   ],
   "source": [
    "train.isnull().sum()"
   ]
  },
  {
   "cell_type": "code",
   "execution_count": 38,
   "metadata": {},
   "outputs": [
    {
     "data": {
      "text/plain": [
       "PassengerId      0\n",
       "Pclass           0\n",
       "Name             0\n",
       "Sex              0\n",
       "Age             86\n",
       "SibSp            0\n",
       "Parch            0\n",
       "Ticket           0\n",
       "Fare             1\n",
       "Cabin          327\n",
       "Embarked         0\n",
       "dtype: int64"
      ]
     },
     "execution_count": 38,
     "metadata": {},
     "output_type": "execute_result"
    }
   ],
   "source": [
    "teste_data.isnull().sum()"
   ]
  },
  {
   "cell_type": "markdown",
   "metadata": {},
   "source": [
    "Imprimindo o valor da moda do atributo 'Embarked' nos dados de treino."
   ]
  },
  {
   "cell_type": "code",
   "execution_count": 68,
   "metadata": {},
   "outputs": [
    {
     "data": {
      "text/plain": [
       "'S'"
      ]
     },
     "execution_count": 68,
     "metadata": {},
     "output_type": "execute_result"
    }
   ],
   "source": [
    "train['Embarked'].mode().values[0]"
   ]
  },
  {
   "cell_type": "markdown",
   "metadata": {},
   "source": [
    "Imprimindo o valor da moda do atributo 'Fare' nos dados de teste."
   ]
  },
  {
   "cell_type": "code",
   "execution_count": 40,
   "metadata": {},
   "outputs": [
    {
     "data": {
      "text/plain": [
       "7.75"
      ]
     },
     "execution_count": 40,
     "metadata": {},
     "output_type": "execute_result"
    }
   ],
   "source": [
    "teste_data['Fare'].mode().values[0]"
   ]
  },
  {
   "cell_type": "markdown",
   "metadata": {},
   "source": [
    "Atribuindo o valor da moda aos valores faltantes do atributo 'Embarked' nos dados de treino e também o valor da moda ao único valor faltante do atributo 'Fare' nos dados de teste. Excluindo colunas não importantes dos dados de treino e teste. E atribuindo a média das idades de ambos os dados (de treino e teste) aos valores faltantes do atributo 'Age'."
   ]
  },
  {
   "cell_type": "code",
   "execution_count": 78,
   "metadata": {},
   "outputs": [],
   "source": [
    "y_train = train['Survived'].values.reshape((train.shape[0], 1))\n",
    "X_train = train.drop(columns=['PassengerId','Name', 'Cabin','Survived', 'Ticket'], axis=1)\n",
    "X_train['Embarked'] = X_train['Embarked'].fillna('S')\n",
    "\n",
    "X_test = test.drop(columns=['PassengerId','Name', 'Cabin', 'Ticket', 'Survived'], axis=1)\n",
    "X_test['Fare'] = X_test['Fare'].fillna(7.75)\n",
    "y_test = test['Survived'].values.reshape((test.shape[0], 1))\n",
    "\n",
    "X_train['Age'] = X_train['Age'].fillna(X_train['Age'].mean())\n",
    "X_test['Age'] = X_test['Age'].fillna(X_test['Age'].mean())"
   ]
  },
  {
   "cell_type": "code",
   "execution_count": 79,
   "metadata": {},
   "outputs": [
    {
     "name": "stdout",
     "output_type": "stream",
     "text": [
      "X_train:  (712, 7)\n",
      "X_test:  (179, 7)\n",
      "y_train:  (712, 1)\n",
      "y_test:  (179, 1)\n"
     ]
    }
   ],
   "source": [
    "print(\"X_train: \", X_train.shape)\n",
    "print(\"X_test: \", X_test.shape)\n",
    "print(\"y_train: \", y_train.shape)\n",
    "print(\"y_test: \", y_test.shape)"
   ]
  },
  {
   "cell_type": "markdown",
   "metadata": {},
   "source": [
    "Verificando se ainda há algum valor faltante nos dados de treino e teste."
   ]
  },
  {
   "cell_type": "code",
   "execution_count": 80,
   "metadata": {},
   "outputs": [
    {
     "data": {
      "text/plain": [
       "Pclass      0\n",
       "Sex         0\n",
       "Age         0\n",
       "SibSp       0\n",
       "Parch       0\n",
       "Fare        0\n",
       "Embarked    0\n",
       "dtype: int64"
      ]
     },
     "execution_count": 80,
     "metadata": {},
     "output_type": "execute_result"
    }
   ],
   "source": [
    "X_train.isnull().sum()"
   ]
  },
  {
   "cell_type": "code",
   "execution_count": 81,
   "metadata": {},
   "outputs": [
    {
     "data": {
      "text/plain": [
       "Pclass      0\n",
       "Sex         0\n",
       "Age         0\n",
       "SibSp       0\n",
       "Parch       0\n",
       "Fare        0\n",
       "Embarked    0\n",
       "dtype: int64"
      ]
     },
     "execution_count": 81,
     "metadata": {},
     "output_type": "execute_result"
    }
   ],
   "source": [
    "X_test.isnull().sum()"
   ]
  },
  {
   "cell_type": "code",
   "execution_count": 82,
   "metadata": {},
   "outputs": [
    {
     "data": {
      "text/html": [
       "<div>\n",
       "<style scoped>\n",
       "    .dataframe tbody tr th:only-of-type {\n",
       "        vertical-align: middle;\n",
       "    }\n",
       "\n",
       "    .dataframe tbody tr th {\n",
       "        vertical-align: top;\n",
       "    }\n",
       "\n",
       "    .dataframe thead th {\n",
       "        text-align: right;\n",
       "    }\n",
       "</style>\n",
       "<table border=\"1\" class=\"dataframe\">\n",
       "  <thead>\n",
       "    <tr style=\"text-align: right;\">\n",
       "      <th></th>\n",
       "      <th>Pclass</th>\n",
       "      <th>Age</th>\n",
       "      <th>SibSp</th>\n",
       "      <th>Parch</th>\n",
       "      <th>Fare</th>\n",
       "      <th>Sex_female</th>\n",
       "      <th>Sex_male</th>\n",
       "      <th>Embarked_C</th>\n",
       "      <th>Embarked_Q</th>\n",
       "      <th>Embarked_S</th>\n",
       "    </tr>\n",
       "  </thead>\n",
       "  <tbody>\n",
       "    <tr>\n",
       "      <th>331</th>\n",
       "      <td>1</td>\n",
       "      <td>45.5</td>\n",
       "      <td>0</td>\n",
       "      <td>0</td>\n",
       "      <td>28.5000</td>\n",
       "      <td>0</td>\n",
       "      <td>1</td>\n",
       "      <td>0</td>\n",
       "      <td>0</td>\n",
       "      <td>1</td>\n",
       "    </tr>\n",
       "    <tr>\n",
       "      <th>733</th>\n",
       "      <td>2</td>\n",
       "      <td>23.0</td>\n",
       "      <td>0</td>\n",
       "      <td>0</td>\n",
       "      <td>13.0000</td>\n",
       "      <td>0</td>\n",
       "      <td>1</td>\n",
       "      <td>0</td>\n",
       "      <td>0</td>\n",
       "      <td>1</td>\n",
       "    </tr>\n",
       "    <tr>\n",
       "      <th>382</th>\n",
       "      <td>3</td>\n",
       "      <td>32.0</td>\n",
       "      <td>0</td>\n",
       "      <td>0</td>\n",
       "      <td>7.9250</td>\n",
       "      <td>0</td>\n",
       "      <td>1</td>\n",
       "      <td>0</td>\n",
       "      <td>0</td>\n",
       "      <td>1</td>\n",
       "    </tr>\n",
       "    <tr>\n",
       "      <th>704</th>\n",
       "      <td>3</td>\n",
       "      <td>26.0</td>\n",
       "      <td>1</td>\n",
       "      <td>0</td>\n",
       "      <td>7.8542</td>\n",
       "      <td>0</td>\n",
       "      <td>1</td>\n",
       "      <td>0</td>\n",
       "      <td>0</td>\n",
       "      <td>1</td>\n",
       "    </tr>\n",
       "    <tr>\n",
       "      <th>813</th>\n",
       "      <td>3</td>\n",
       "      <td>6.0</td>\n",
       "      <td>4</td>\n",
       "      <td>2</td>\n",
       "      <td>31.2750</td>\n",
       "      <td>1</td>\n",
       "      <td>0</td>\n",
       "      <td>0</td>\n",
       "      <td>0</td>\n",
       "      <td>1</td>\n",
       "    </tr>\n",
       "  </tbody>\n",
       "</table>\n",
       "</div>"
      ],
      "text/plain": [
       "     Pclass   Age  SibSp  Parch     Fare  Sex_female  Sex_male  Embarked_C  \\\n",
       "331       1  45.5      0      0  28.5000           0         1           0   \n",
       "733       2  23.0      0      0  13.0000           0         1           0   \n",
       "382       3  32.0      0      0   7.9250           0         1           0   \n",
       "704       3  26.0      1      0   7.8542           0         1           0   \n",
       "813       3   6.0      4      2  31.2750           1         0           0   \n",
       "\n",
       "     Embarked_Q  Embarked_S  \n",
       "331           0           1  \n",
       "733           0           1  \n",
       "382           0           1  \n",
       "704           0           1  \n",
       "813           0           1  "
      ]
     },
     "execution_count": 82,
     "metadata": {},
     "output_type": "execute_result"
    }
   ],
   "source": [
    "X_train = pd.get_dummies(X_train)\n",
    "X_test = pd.get_dummies(X_test)\n",
    "X_train.head()"
   ]
  },
  {
   "cell_type": "code",
   "execution_count": 83,
   "metadata": {},
   "outputs": [
    {
     "data": {
      "text/html": [
       "<div>\n",
       "<style scoped>\n",
       "    .dataframe tbody tr th:only-of-type {\n",
       "        vertical-align: middle;\n",
       "    }\n",
       "\n",
       "    .dataframe tbody tr th {\n",
       "        vertical-align: top;\n",
       "    }\n",
       "\n",
       "    .dataframe thead th {\n",
       "        text-align: right;\n",
       "    }\n",
       "</style>\n",
       "<table border=\"1\" class=\"dataframe\">\n",
       "  <thead>\n",
       "    <tr style=\"text-align: right;\">\n",
       "      <th></th>\n",
       "      <th>Pclass</th>\n",
       "      <th>Age</th>\n",
       "      <th>SibSp</th>\n",
       "      <th>Parch</th>\n",
       "      <th>Fare</th>\n",
       "      <th>Sex_female</th>\n",
       "      <th>Sex_male</th>\n",
       "      <th>Embarked_C</th>\n",
       "      <th>Embarked_Q</th>\n",
       "      <th>Embarked_S</th>\n",
       "    </tr>\n",
       "  </thead>\n",
       "  <tbody>\n",
       "    <tr>\n",
       "      <th>709</th>\n",
       "      <td>3</td>\n",
       "      <td>30.505845</td>\n",
       "      <td>1</td>\n",
       "      <td>1</td>\n",
       "      <td>15.2458</td>\n",
       "      <td>0</td>\n",
       "      <td>1</td>\n",
       "      <td>1</td>\n",
       "      <td>0</td>\n",
       "      <td>0</td>\n",
       "    </tr>\n",
       "    <tr>\n",
       "      <th>439</th>\n",
       "      <td>2</td>\n",
       "      <td>31.000000</td>\n",
       "      <td>0</td>\n",
       "      <td>0</td>\n",
       "      <td>10.5000</td>\n",
       "      <td>0</td>\n",
       "      <td>1</td>\n",
       "      <td>0</td>\n",
       "      <td>0</td>\n",
       "      <td>1</td>\n",
       "    </tr>\n",
       "    <tr>\n",
       "      <th>840</th>\n",
       "      <td>3</td>\n",
       "      <td>20.000000</td>\n",
       "      <td>0</td>\n",
       "      <td>0</td>\n",
       "      <td>7.9250</td>\n",
       "      <td>0</td>\n",
       "      <td>1</td>\n",
       "      <td>0</td>\n",
       "      <td>0</td>\n",
       "      <td>1</td>\n",
       "    </tr>\n",
       "    <tr>\n",
       "      <th>720</th>\n",
       "      <td>2</td>\n",
       "      <td>6.000000</td>\n",
       "      <td>0</td>\n",
       "      <td>1</td>\n",
       "      <td>33.0000</td>\n",
       "      <td>1</td>\n",
       "      <td>0</td>\n",
       "      <td>0</td>\n",
       "      <td>0</td>\n",
       "      <td>1</td>\n",
       "    </tr>\n",
       "    <tr>\n",
       "      <th>39</th>\n",
       "      <td>3</td>\n",
       "      <td>14.000000</td>\n",
       "      <td>1</td>\n",
       "      <td>0</td>\n",
       "      <td>11.2417</td>\n",
       "      <td>1</td>\n",
       "      <td>0</td>\n",
       "      <td>1</td>\n",
       "      <td>0</td>\n",
       "      <td>0</td>\n",
       "    </tr>\n",
       "  </tbody>\n",
       "</table>\n",
       "</div>"
      ],
      "text/plain": [
       "     Pclass        Age  SibSp  Parch     Fare  Sex_female  Sex_male  \\\n",
       "709       3  30.505845      1      1  15.2458           0         1   \n",
       "439       2  31.000000      0      0  10.5000           0         1   \n",
       "840       3  20.000000      0      0   7.9250           0         1   \n",
       "720       2   6.000000      0      1  33.0000           1         0   \n",
       "39        3  14.000000      1      0  11.2417           1         0   \n",
       "\n",
       "     Embarked_C  Embarked_Q  Embarked_S  \n",
       "709           1           0           0  \n",
       "439           0           0           1  \n",
       "840           0           0           1  \n",
       "720           0           0           1  \n",
       "39            1           0           0  "
      ]
     },
     "execution_count": 83,
     "metadata": {},
     "output_type": "execute_result"
    }
   ],
   "source": [
    "X_test.head()"
   ]
  },
  {
   "cell_type": "markdown",
   "metadata": {},
   "source": [
    "### Escolhendo o melhor k"
   ]
  },
  {
   "cell_type": "code",
   "execution_count": 108,
   "metadata": {},
   "outputs": [
    {
     "name": "stdout",
     "output_type": "stream",
     "text": [
      "k = 1 , accuracy = 0.7821229050279329\n",
      "k = 2 , accuracy = 0.7653631284916201\n",
      "k = 3 , accuracy = 0.7988826815642458\n",
      "k = 4 , accuracy = 0.7988826815642458\n",
      "k = 5 , accuracy = 0.7988826815642458\n",
      "k = 6 , accuracy = 0.7988826815642458\n",
      "k = 7 , accuracy = 0.8100558659217877\n",
      "k = 8 , accuracy = 0.7877094972067039\n",
      "k = 9 , accuracy = 0.7988826815642458\n",
      "k = 10 , accuracy = 0.7932960893854749\n",
      "k = 11 , accuracy = 0.7597765363128491\n",
      "k = 12 , accuracy = 0.7597765363128491\n",
      "k = 13 , accuracy = 0.7541899441340782\n",
      "k = 14 , accuracy = 0.7374301675977654\n",
      "k = 15 , accuracy = 0.7318435754189944\n",
      "k = 16 , accuracy = 0.7541899441340782\n",
      "k = 17 , accuracy = 0.7374301675977654\n",
      "k = 18 , accuracy = 0.7541899441340782\n",
      "k = 19 , accuracy = 0.7541899441340782\n",
      "k = 20 , accuracy = 0.7597765363128491\n",
      "k = 21 , accuracy = 0.7541899441340782\n",
      "k = 22 , accuracy = 0.7541899441340782\n",
      "k = 23 , accuracy = 0.7541899441340782\n",
      "k = 24 , accuracy = 0.7541899441340782\n",
      "k = 25 , accuracy = 0.7541899441340782\n",
      "k = 26 , accuracy = 0.7541899441340782\n",
      "k = 27 , accuracy = 0.7541899441340782\n",
      "k = 28 , accuracy = 0.7541899441340782\n",
      "k = 29 , accuracy = 0.7541899441340782\n"
     ]
    }
   ],
   "source": [
    "for k in range(1,30):\n",
    "    dt = DecisionTreeClassifier(criterion='gini', max_depth=k, random_state=42)\n",
    "    dt.fit(X_train,y_train)\n",
    "    y_ = dt.predict(X_test)\n",
    "    print('k =', k, ', accuracy =', accuracy_score(y_test, y_))"
   ]
  },
  {
   "cell_type": "markdown",
   "metadata": {},
   "source": [
    "### Treinando o classificador"
   ]
  },
  {
   "cell_type": "markdown",
   "metadata": {},
   "source": [
    "O k=7 teve a melhor acurácia, logo, podemos treinar os dados."
   ]
  },
  {
   "cell_type": "code",
   "execution_count": 109,
   "metadata": {},
   "outputs": [
    {
     "data": {
      "text/plain": [
       "DecisionTreeClassifier(class_weight=None, criterion='gini', max_depth=7,\n",
       "                       max_features=None, max_leaf_nodes=None,\n",
       "                       min_impurity_decrease=0.0, min_impurity_split=None,\n",
       "                       min_samples_leaf=1, min_samples_split=2,\n",
       "                       min_weight_fraction_leaf=0.0, presort=False,\n",
       "                       random_state=42, splitter='best')"
      ]
     },
     "execution_count": 109,
     "metadata": {},
     "output_type": "execute_result"
    }
   ],
   "source": [
    "#K=7\n",
    "dt = DecisionTreeClassifier(criterion='gini', max_depth=7, random_state=42)\n",
    "dt.fit(X_train,y_train)"
   ]
  },
  {
   "cell_type": "markdown",
   "metadata": {},
   "source": [
    "### Calculando a acurácia  "
   ]
  },
  {
   "cell_type": "code",
   "execution_count": 110,
   "metadata": {},
   "outputs": [
    {
     "data": {
      "text/plain": [
       "0.8100558659217877"
      ]
     },
     "execution_count": 110,
     "metadata": {},
     "output_type": "execute_result"
    }
   ],
   "source": [
    "#K=7\n",
    "y_pred = dt.predict(X_test)\n",
    "accuracy_score(y_test, y_pred)"
   ]
  },
  {
   "cell_type": "markdown",
   "metadata": {},
   "source": [
    "Mostrando a importância de cada feature."
   ]
  },
  {
   "cell_type": "code",
   "execution_count": 111,
   "metadata": {},
   "outputs": [
    {
     "data": {
      "text/plain": [
       "array([0.16866976, 0.12279216, 0.03763784, 0.01027202, 0.16375417,\n",
       "       0.47364106, 0.        , 0.01187463, 0.        , 0.01135837])"
      ]
     },
     "execution_count": 111,
     "metadata": {},
     "output_type": "execute_result"
    }
   ],
   "source": [
    "#K=7\n",
    "dt1.feature_importances_"
   ]
  },
  {
   "cell_type": "code",
   "execution_count": 112,
   "metadata": {},
   "outputs": [
    {
     "data": {
      "text/plain": [
       "[Text(167.4, 181.2, 'X[5] <= 0.5\\nentropy = 0.469\\nsamples = 712\\nvalue = [444, 268]'),\n",
       " Text(83.7, 108.72, 'X[1] <= 6.5\\nentropy = 0.303\\nsamples = 467\\nvalue = [380, 87]'),\n",
       " Text(41.85, 36.23999999999998, '\\n  (...)  \\n'),\n",
       " Text(125.55000000000001, 36.23999999999998, '\\n  (...)  \\n'),\n",
       " Text(251.10000000000002, 108.72, 'X[0] <= 2.5\\nentropy = 0.386\\nsamples = 245\\nvalue = [64, 181]'),\n",
       " Text(209.25, 36.23999999999998, '\\n  (...)  \\n'),\n",
       " Text(292.95, 36.23999999999998, '\\n  (...)  \\n')]"
      ]
     },
     "execution_count": 112,
     "metadata": {},
     "output_type": "execute_result"
    },
    {
     "data": {
      "image/png": "[encoded data removed]",
      "text/plain": [
       "<Figure size 432x288 with 1 Axes>"
      ]
     },
     "metadata": {
      "needs_background": "light"
     },
     "output_type": "display_data"
    }
   ],
   "source": [
    "#K=7\n",
    "tree.plot_tree(dt1, max_depth=1, filled=True)"
   ]
  },
  {
   "cell_type": "code",
   "execution_count": 113,
   "metadata": {},
   "outputs": [
    {
     "data": {
      "text/plain": [
       "[Text(152.96896551724137, 195.696, 'X[5] <= 0.5\\nentropy = 0.469\\nsamples = 712\\nvalue = [444, 268]'),\n",
       " Text(63.49655172413793, 152.208, 'X[1] <= 6.5\\nentropy = 0.303\\nsamples = 467\\nvalue = [380, 87]'),\n",
       " Text(23.089655172413792, 108.72, 'X[2] <= 2.5\\nentropy = 0.434\\nsamples = 22\\nvalue = [7, 15]'),\n",
       " Text(11.544827586206896, 65.232, 'entropy = 0.0\\nsamples = 14\\nvalue = [0, 14]'),\n",
       " Text(34.63448275862069, 65.232, 'X[1] <= 2.5\\nentropy = 0.219\\nsamples = 8\\nvalue = [7, 1]'),\n",
       " Text(23.089655172413792, 21.744, '\\n  (...)  \\n'),\n",
       " Text(46.179310344827584, 21.744, '\\n  (...)  \\n'),\n",
       " Text(103.90344827586206, 108.72, 'X[0] <= 1.5\\nentropy = 0.271\\nsamples = 445\\nvalue = [373, 72]'),\n",
       " Text(80.81379310344828, 65.232, 'X[4] <= 387.665\\nentropy = 0.442\\nsamples = 91\\nvalue = [61, 30]'),\n",
       " Text(69.26896551724138, 21.744, '\\n  (...)  \\n'),\n",
       " Text(92.35862068965517, 21.744, '\\n  (...)  \\n'),\n",
       " Text(126.99310344827586, 65.232, 'X[4] <= 51.698\\nentropy = 0.209\\nsamples = 354\\nvalue = [312, 42]'),\n",
       " Text(115.44827586206895, 21.744, '\\n  (...)  \\n'),\n",
       " Text(138.53793103448277, 21.744, '\\n  (...)  \\n'),\n",
       " Text(242.44137931034481, 152.208, 'X[0] <= 2.5\\nentropy = 0.386\\nsamples = 245\\nvalue = [64, 181]'),\n",
       " Text(196.26206896551724, 108.72, 'X[1] <= 2.5\\nentropy = 0.074\\nsamples = 130\\nvalue = [5, 125]'),\n",
       " Text(173.17241379310343, 65.232, 'X[0] <= 1.5\\nentropy = 0.5\\nsamples = 2\\nvalue = [1, 1]'),\n",
       " Text(161.62758620689655, 21.744, '\\n  (...)  \\n'),\n",
       " Text(184.71724137931034, 21.744, '\\n  (...)  \\n'),\n",
       " Text(219.35172413793103, 65.232, 'X[1] <= 27.5\\nentropy = 0.061\\nsamples = 128\\nvalue = [4, 124]'),\n",
       " Text(207.80689655172412, 21.744, '\\n  (...)  \\n'),\n",
       " Text(230.8965517241379, 21.744, '\\n  (...)  \\n'),\n",
       " Text(288.6206896551724, 108.72, 'X[4] <= 23.35\\nentropy = 0.5\\nsamples = 115\\nvalue = [59, 56]'),\n",
       " Text(265.5310344827586, 65.232, 'X[9] <= 0.5\\nentropy = 0.486\\nsamples = 94\\nvalue = [39, 55]'),\n",
       " Text(253.98620689655172, 21.744, '\\n  (...)  \\n'),\n",
       " Text(277.07586206896553, 21.744, '\\n  (...)  \\n'),\n",
       " Text(311.7103448275862, 65.232, 'X[1] <= 5.5\\nentropy = 0.091\\nsamples = 21\\nvalue = [20, 1]'),\n",
       " Text(300.1655172413793, 21.744, '\\n  (...)  \\n'),\n",
       " Text(323.2551724137931, 21.744, '\\n  (...)  \\n')]"
      ]
     },
     "execution_count": 113,
     "metadata": {},
     "output_type": "execute_result"
    },
    {
     "data": {
      "image/png": "[encoded data removed]",
      "text/plain": [
       "<Figure size 432x288 with 1 Axes>"
      ]
     },
     "metadata": {
      "needs_background": "light"
     },
     "output_type": "display_data"
    }
   ],
   "source": [
    "tree.plot_tree(dt, max_depth=3, filled=True)"
   ]
  },
  {
   "cell_type": "markdown",
   "metadata": {},
   "source": [
    "Pegando as features com importância maior que 0.008."
   ]
  },
  {
   "cell_type": "code",
   "execution_count": 114,
   "metadata": {},
   "outputs": [
    {
     "data": {
      "text/html": [
       "<div>\n",
       "<style scoped>\n",
       "    .dataframe tbody tr th:only-of-type {\n",
       "        vertical-align: middle;\n",
       "    }\n",
       "\n",
       "    .dataframe tbody tr th {\n",
       "        vertical-align: top;\n",
       "    }\n",
       "\n",
       "    .dataframe thead th {\n",
       "        text-align: right;\n",
       "    }\n",
       "</style>\n",
       "<table border=\"1\" class=\"dataframe\">\n",
       "  <thead>\n",
       "    <tr style=\"text-align: right;\">\n",
       "      <th></th>\n",
       "      <th>0</th>\n",
       "    </tr>\n",
       "  </thead>\n",
       "  <tbody>\n",
       "    <tr>\n",
       "      <th>0</th>\n",
       "      <td>0.168670</td>\n",
       "    </tr>\n",
       "    <tr>\n",
       "      <th>1</th>\n",
       "      <td>0.122792</td>\n",
       "    </tr>\n",
       "    <tr>\n",
       "      <th>2</th>\n",
       "      <td>0.037638</td>\n",
       "    </tr>\n",
       "    <tr>\n",
       "      <th>3</th>\n",
       "      <td>0.010272</td>\n",
       "    </tr>\n",
       "    <tr>\n",
       "      <th>4</th>\n",
       "      <td>0.163754</td>\n",
       "    </tr>\n",
       "    <tr>\n",
       "      <th>5</th>\n",
       "      <td>0.473641</td>\n",
       "    </tr>\n",
       "    <tr>\n",
       "      <th>7</th>\n",
       "      <td>0.011875</td>\n",
       "    </tr>\n",
       "    <tr>\n",
       "      <th>9</th>\n",
       "      <td>0.011358</td>\n",
       "    </tr>\n",
       "  </tbody>\n",
       "</table>\n",
       "</div>"
      ],
      "text/plain": [
       "          0\n",
       "0  0.168670\n",
       "1  0.122792\n",
       "2  0.037638\n",
       "3  0.010272\n",
       "4  0.163754\n",
       "5  0.473641\n",
       "7  0.011875\n",
       "9  0.011358"
      ]
     },
     "execution_count": 114,
     "metadata": {},
     "output_type": "execute_result"
    }
   ],
   "source": [
    "df = pd.DataFrame(dt.feature_importances_)\n",
    "df[ df[0] > 0.008]"
   ]
  },
  {
   "cell_type": "code",
   "execution_count": 115,
   "metadata": {},
   "outputs": [
    {
     "data": {
      "image/png": "[encoded data removed]",
      "text/plain": [
       "<Figure size 432x288 with 1 Axes>"
      ]
     },
     "metadata": {
      "needs_background": "light"
     },
     "output_type": "display_data"
    }
   ],
   "source": [
    "df.sort_values(by=0).plot(kind='barh');"
   ]
  },
  {
   "cell_type": "code",
   "execution_count": null,
   "metadata": {},
   "outputs": [],
   "source": []
  },
  {
   "cell_type": "code",
   "execution_count": null,
   "metadata": {},
   "outputs": [],
   "source": []
  },
  {
   "cell_type": "code",
   "execution_count": null,
   "metadata": {},
   "outputs": [],
   "source": []
  }
 ],
 "metadata": {
  "kernelspec": {
   "display_name": "Python 3",
   "language": "python",
   "name": "python3"
  },
  "language_info": {
   "codemirror_mode": {
    "name": "ipython",
    "version": 3
   },
   "file_extension": ".py",
   "mimetype": "text/x-python",
   "name": "python",
   "nbconvert_exporter": "python",
   "pygments_lexer": "ipython3",
   "version": "3.7.3"
  }
 },
 "nbformat": 4,
 "nbformat_minor": 2
}
