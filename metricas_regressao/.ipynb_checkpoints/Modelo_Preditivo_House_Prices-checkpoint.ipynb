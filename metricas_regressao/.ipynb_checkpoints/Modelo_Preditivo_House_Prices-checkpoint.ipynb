{
 "cells": [
  {
   "cell_type": "markdown",
   "metadata": {},
   "source": [
    "## Modelo preditivo para o problema House Prices\n",
    "### Letícia Saraiva Chaves, 402120"
   ]
  },
  {
   "cell_type": "markdown",
   "metadata": {},
   "source": [
    "### Import"
   ]
  },
  {
   "cell_type": "code",
   "execution_count": 1,
   "metadata": {},
   "outputs": [],
   "source": [
    "import numpy as np\n",
    "import pandas as pd\n",
    "from sklearn import linear_model\n",
    "from sklearn import model_selection\n",
    "from sklearn import metrics"
   ]
  },
  {
   "cell_type": "markdown",
   "metadata": {},
   "source": [
    "### House Prices dataset"
   ]
  },
  {
   "cell_type": "code",
   "execution_count": 2,
   "metadata": {},
   "outputs": [
    {
     "data": {
      "text/html": [
       "<div>\n",
       "<style scoped>\n",
       "    .dataframe tbody tr th:only-of-type {\n",
       "        vertical-align: middle;\n",
       "    }\n",
       "\n",
       "    .dataframe tbody tr th {\n",
       "        vertical-align: top;\n",
       "    }\n",
       "\n",
       "    .dataframe thead th {\n",
       "        text-align: right;\n",
       "    }\n",
       "</style>\n",
       "<table border=\"1\" class=\"dataframe\">\n",
       "  <thead>\n",
       "    <tr style=\"text-align: right;\">\n",
       "      <th></th>\n",
       "      <th>CRIM</th>\n",
       "      <th>ZN</th>\n",
       "      <th>INDUS</th>\n",
       "      <th>CHAS</th>\n",
       "      <th>NOX</th>\n",
       "      <th>RM</th>\n",
       "      <th>AGE</th>\n",
       "      <th>DIS</th>\n",
       "      <th>RAD</th>\n",
       "      <th>TAX</th>\n",
       "      <th>PTRATIO</th>\n",
       "      <th>B</th>\n",
       "      <th>LSTAT</th>\n",
       "      <th>MEDV</th>\n",
       "    </tr>\n",
       "  </thead>\n",
       "  <tbody>\n",
       "    <tr>\n",
       "      <th>0</th>\n",
       "      <td>0.00632</td>\n",
       "      <td>18.0</td>\n",
       "      <td>2.31</td>\n",
       "      <td>0</td>\n",
       "      <td>0.538</td>\n",
       "      <td>6.575</td>\n",
       "      <td>65.2</td>\n",
       "      <td>4.0900</td>\n",
       "      <td>1</td>\n",
       "      <td>296.0</td>\n",
       "      <td>15.3</td>\n",
       "      <td>396.90</td>\n",
       "      <td>4.98</td>\n",
       "      <td>24.0</td>\n",
       "    </tr>\n",
       "    <tr>\n",
       "      <th>1</th>\n",
       "      <td>0.02731</td>\n",
       "      <td>0.0</td>\n",
       "      <td>7.07</td>\n",
       "      <td>0</td>\n",
       "      <td>0.469</td>\n",
       "      <td>6.421</td>\n",
       "      <td>78.9</td>\n",
       "      <td>4.9671</td>\n",
       "      <td>2</td>\n",
       "      <td>242.0</td>\n",
       "      <td>17.8</td>\n",
       "      <td>396.90</td>\n",
       "      <td>9.14</td>\n",
       "      <td>21.6</td>\n",
       "    </tr>\n",
       "    <tr>\n",
       "      <th>2</th>\n",
       "      <td>0.02729</td>\n",
       "      <td>0.0</td>\n",
       "      <td>7.07</td>\n",
       "      <td>0</td>\n",
       "      <td>0.469</td>\n",
       "      <td>7.185</td>\n",
       "      <td>61.1</td>\n",
       "      <td>4.9671</td>\n",
       "      <td>2</td>\n",
       "      <td>242.0</td>\n",
       "      <td>17.8</td>\n",
       "      <td>392.83</td>\n",
       "      <td>4.03</td>\n",
       "      <td>34.7</td>\n",
       "    </tr>\n",
       "    <tr>\n",
       "      <th>3</th>\n",
       "      <td>0.03237</td>\n",
       "      <td>0.0</td>\n",
       "      <td>2.18</td>\n",
       "      <td>0</td>\n",
       "      <td>0.458</td>\n",
       "      <td>6.998</td>\n",
       "      <td>45.8</td>\n",
       "      <td>6.0622</td>\n",
       "      <td>3</td>\n",
       "      <td>222.0</td>\n",
       "      <td>18.7</td>\n",
       "      <td>394.63</td>\n",
       "      <td>2.94</td>\n",
       "      <td>33.4</td>\n",
       "    </tr>\n",
       "    <tr>\n",
       "      <th>4</th>\n",
       "      <td>0.06905</td>\n",
       "      <td>0.0</td>\n",
       "      <td>2.18</td>\n",
       "      <td>0</td>\n",
       "      <td>0.458</td>\n",
       "      <td>7.147</td>\n",
       "      <td>54.2</td>\n",
       "      <td>6.0622</td>\n",
       "      <td>3</td>\n",
       "      <td>222.0</td>\n",
       "      <td>18.7</td>\n",
       "      <td>396.90</td>\n",
       "      <td>5.33</td>\n",
       "      <td>36.2</td>\n",
       "    </tr>\n",
       "  </tbody>\n",
       "</table>\n",
       "</div>"
      ],
      "text/plain": [
       "      CRIM    ZN  INDUS  CHAS    NOX     RM   AGE     DIS  RAD    TAX  \\\n",
       "0  0.00632  18.0   2.31     0  0.538  6.575  65.2  4.0900    1  296.0   \n",
       "1  0.02731   0.0   7.07     0  0.469  6.421  78.9  4.9671    2  242.0   \n",
       "2  0.02729   0.0   7.07     0  0.469  7.185  61.1  4.9671    2  242.0   \n",
       "3  0.03237   0.0   2.18     0  0.458  6.998  45.8  6.0622    3  222.0   \n",
       "4  0.06905   0.0   2.18     0  0.458  7.147  54.2  6.0622    3  222.0   \n",
       "\n",
       "   PTRATIO       B  LSTAT  MEDV  \n",
       "0     15.3  396.90   4.98  24.0  \n",
       "1     17.8  396.90   9.14  21.6  \n",
       "2     17.8  392.83   4.03  34.7  \n",
       "3     18.7  394.63   2.94  33.4  \n",
       "4     18.7  396.90   5.33  36.2  "
      ]
     },
     "execution_count": 2,
     "metadata": {},
     "output_type": "execute_result"
    }
   ],
   "source": [
    "df = pd.read_csv('https://raw.githubusercontent.com/rasbt/'\n",
    "                 'python-machine-learning-book-2nd-edition'\n",
    "                 '/master/code/ch10/housing.data.txt',\n",
    "                 header=None,\n",
    "                 sep='\\s+')\n",
    "\n",
    "df.columns = ['CRIM', 'ZN', 'INDUS', 'CHAS', \n",
    "              'NOX', 'RM', 'AGE', 'DIS', 'RAD', \n",
    "              'TAX', 'PTRATIO', 'B', 'LSTAT', 'MEDV']\n",
    "df.head()"
   ]
  },
  {
   "cell_type": "code",
   "execution_count": 3,
   "metadata": {},
   "outputs": [
    {
     "name": "stdout",
     "output_type": "stream",
     "text": [
      "(506, 13)\n",
      "(506, 1)\n"
     ]
    }
   ],
   "source": [
    "X = df.iloc[:,:-1].values\n",
    "y = df['MEDV'].values\n",
    "\n",
    "y = y.reshape(y.shape[0], 1)\n",
    "\n",
    "print(X.shape)\n",
    "print(y.shape)\n"
   ]
  },
  {
   "cell_type": "code",
   "execution_count": 4,
   "metadata": {},
   "outputs": [
    {
     "data": {
      "text/plain": [
       "CRIM       0\n",
       "ZN         0\n",
       "INDUS      0\n",
       "CHAS       0\n",
       "NOX        0\n",
       "RM         0\n",
       "AGE        0\n",
       "DIS        0\n",
       "RAD        0\n",
       "TAX        0\n",
       "PTRATIO    0\n",
       "B          0\n",
       "LSTAT      0\n",
       "MEDV       0\n",
       "dtype: int64"
      ]
     },
     "execution_count": 4,
     "metadata": {},
     "output_type": "execute_result"
    }
   ],
   "source": [
    "df.isnull().sum()"
   ]
  },
  {
   "cell_type": "markdown",
   "metadata": {},
   "source": [
    "### Métrica MAE - Mean Absolute Error"
   ]
  },
  {
   "cell_type": "code",
   "execution_count": 5,
   "metadata": {},
   "outputs": [],
   "source": [
    "def mae(y_test, y_pred):\n",
    "    soma_y = 0\n",
    "    for i, j in enumerate(y_test):\n",
    "        soma_y += abs(j - y_pred[i])\n",
    "\n",
    "    mae = soma_y / (i+1)\n",
    "    \n",
    "    return mae"
   ]
  },
  {
   "cell_type": "markdown",
   "metadata": {},
   "source": [
    "### Métrica MSE - Mean Squared Error"
   ]
  },
  {
   "cell_type": "code",
   "execution_count": 6,
   "metadata": {},
   "outputs": [],
   "source": [
    "def mse(y_test, y_pred):\n",
    "    soma_y = 0\n",
    "    for i, j in enumerate(y_test):\n",
    "        soma_y += (j - y_pred[i])**2\n",
    "\n",
    "    mse = soma_y / (i+1)\n",
    "    \n",
    "    return mse"
   ]
  },
  {
   "cell_type": "markdown",
   "metadata": {},
   "source": [
    "### Métrica RMSE - Root Mean Squared Error"
   ]
  },
  {
   "cell_type": "code",
   "execution_count": 7,
   "metadata": {},
   "outputs": [],
   "source": [
    "def rmse(y_test, y_pred):\n",
    "    var_mse = mse(y_test, y_pred)\n",
    "    \n",
    "    rmse = np.sqrt(var_mse)\n",
    "    return rmse"
   ]
  },
  {
   "cell_type": "markdown",
   "metadata": {},
   "source": [
    "### Métrica MSLE - Mean squared logarithmic error"
   ]
  },
  {
   "cell_type": "code",
   "execution_count": 8,
   "metadata": {},
   "outputs": [],
   "source": [
    "def msle(y_test, y_pred):\n",
    "    soma_y = 0\n",
    "    for i, j in enumerate(y_test):\n",
    "        if y_pred[i] > 0:\n",
    "            soma_y += (np.log(j+1) - np.log(y_pred[i] + 1))**2\n",
    "\n",
    "    msle_ = soma_y / (i+1)\n",
    "    \n",
    "    return msle_"
   ]
  },
  {
   "cell_type": "markdown",
   "metadata": {},
   "source": [
    "### Métrica RMSLE - Root Mean squared logarithmic error"
   ]
  },
  {
   "cell_type": "code",
   "execution_count": 9,
   "metadata": {},
   "outputs": [],
   "source": [
    "def rmsle(y_test, y_pred):\n",
    "    var_msle = msle(y_test, y_pred)\n",
    "    \n",
    "    rmsle_ = np.sqrt(var_msle)\n",
    "    return rmsle_"
   ]
  },
  {
   "cell_type": "markdown",
   "metadata": {},
   "source": [
    "### Métrica  $R^2$  - Coeficiente de Determinação"
   ]
  },
  {
   "cell_type": "code",
   "execution_count": 10,
   "metadata": {},
   "outputs": [],
   "source": [
    "def ss_res(y_test, y_pred):\n",
    "    soma = 0\n",
    "    for i, j in enumerate(y_test):\n",
    "        soma += (j - y_pred[i])**2\n",
    "    \n",
    "    return soma"
   ]
  },
  {
   "cell_type": "code",
   "execution_count": 11,
   "metadata": {},
   "outputs": [],
   "source": [
    "def ss_tot(y_test, y_mean):\n",
    "    soma = 0\n",
    "    for i in y_test:\n",
    "        soma += (i - y_mean)**2\n",
    "    \n",
    "    return soma"
   ]
  },
  {
   "cell_type": "code",
   "execution_count": 12,
   "metadata": {},
   "outputs": [],
   "source": [
    "def r2(y_test, y_pred):\n",
    "    y_mean = np.mean(y_test)\n",
    "    \n",
    "    var_ss_res = ss_res(y_test, y_pred)\n",
    "    var_ss_tot = ss_tot(y_test, y_mean)\n",
    "    \n",
    "    r2_ = 1 - (var_ss_res/var_ss_tot)\n",
    "    return r2_"
   ]
  },
  {
   "cell_type": "markdown",
   "metadata": {},
   "source": [
    "### Usando o K-fold. Treinando o modelo usando o conjunto de dados de treino e o algoritmo de regressão linear e Calculando as métricas"
   ]
  },
  {
   "cell_type": "code",
   "execution_count": 13,
   "metadata": {
    "scrolled": false
   },
   "outputs": [
    {
     "name": "stdout",
     "output_type": "stream",
     "text": [
      "Fold =  1 Mean Absolute Error:  [3.14927615]\n",
      "Fold =  1 Mean Squared Error:  [20.59500679]\n",
      "Fold =  1 Root Mean Squared Error:  [4.53817219]\n",
      "Fold =  1 Mean squared logarithmic error:  [0.03619943]\n",
      "Fold =  1 Root Mean squared logarithmic error:  [0.19026149]\n",
      "Fold =  1 𝑅² - Coeficiente de Determinação:  [0.72620992]\n",
      "Fold =  2 Mean Absolute Error:  [3.62320579]\n",
      "Fold =  2 Mean Squared Error:  [27.31734136]\n",
      "Fold =  2 Root Mean Squared Error:  [5.22659941]\n",
      "Fold =  2 Mean squared logarithmic error:  [0.09372715]\n",
      "Fold =  2 Root Mean squared logarithmic error:  [0.3061489]\n",
      "Fold =  2 𝑅² - Coeficiente de Determinação:  [0.71324978]\n",
      "Fold =  3 Mean Absolute Error:  [3.37028054]\n",
      "Fold =  3 Mean Squared Error:  [21.66891755]\n",
      "Fold =  3 Root Mean Squared Error:  [4.65498846]\n",
      "Fold =  3 Mean squared logarithmic error:  [0.04283337]\n",
      "Fold =  3 Root Mean squared logarithmic error:  [0.20696224]\n",
      "Fold =  3 𝑅² - Coeficiente de Determinação:  [0.73342693]\n"
     ]
    }
   ],
   "source": [
    "kfold = model_selection.KFold(n_splits=3, shuffle=True, random_state=42)\n",
    "mae_ = 0\n",
    "mse_ = 0\n",
    "rmse_ = 0\n",
    "msle_ = 0\n",
    "rmsle_ = 0\n",
    "r2_ = 0\n",
    "i = 0\n",
    "\n",
    "for train_index, test_index in kfold.split(X, y):\n",
    "    X_train, X_test = X[train_index], X[test_index]\n",
    "    y_train, y_test = y[train_index], y[test_index]\n",
    "    \n",
    "    # Treinando o modelo com todos os grupos\n",
    "    model_lr = linear_model.LinearRegression()\n",
    "    model_lr.fit(X_train, y_train)\n",
    "    y_pred = model_lr.predict(X_test)\n",
    "    \n",
    "    i += 1\n",
    "    mae_ += mae(y_test, y_pred)\n",
    "    mse_ += mse(y_test, y_pred)\n",
    "    rmse_ += rmse(y_test, y_pred)\n",
    "    msle_ += msle(y_test, y_pred)\n",
    "    rmsle_ += rmsle(y_test, y_pred)\n",
    "    r2_ +=  r2(y_test, y_pred)\n",
    "    \n",
    "    \n",
    "    print(\"Fold = \", i , \"Mean Absolute Error: \", mae(y_test, y_pred))\n",
    "    print(\"Fold = \", i , \"Mean Squared Error: \", mse(y_test, y_pred))\n",
    "    print(\"Fold = \", i , \"Root Mean Squared Error: \", rmse(y_test, y_pred))\n",
    "    print(\"Fold = \", i , \"Mean squared logarithmic error: \", msle(y_test, y_pred))\n",
    "    print(\"Fold = \", i , \"Root Mean squared logarithmic error: \", rmsle(y_test, y_pred))\n",
    "    print(\"Fold = \", i , \"𝑅² - Coeficiente de Determinação: \", r2(y_test, y_pred))"
   ]
  },
  {
   "cell_type": "markdown",
   "metadata": {},
   "source": [
    "### Calculando as médias das métricas"
   ]
  },
  {
   "cell_type": "code",
   "execution_count": 14,
   "metadata": {},
   "outputs": [
    {
     "name": "stdout",
     "output_type": "stream",
     "text": [
      "Média MAE:  [3.38092083]\n",
      "Média MSE:  [23.19375523]\n",
      "Média RMSE:  [4.80658668]\n",
      "Média MSLE:  [0.05758665]\n",
      "Média RMSLE:  [0.23445754]\n",
      "Média R²:  [0.72429554]\n"
     ]
    }
   ],
   "source": [
    "print(\"Média MAE: \", mae_/3)\n",
    "print(\"Média MSE: \", mse_/3)\n",
    "print(\"Média RMSE: \", rmse_/3)\n",
    "print(\"Média MSLE: \", msle_/3)\n",
    "print(\"Média RMSLE: \", rmsle_/3)\n",
    "print(\"Média R²: \", r2_/3)\n"
   ]
  },
  {
   "cell_type": "markdown",
   "metadata": {},
   "source": []
  }
 ],
 "metadata": {
  "kernelspec": {
   "display_name": "Python 3",
   "language": "python",
   "name": "python3"
  },
  "language_info": {
   "codemirror_mode": {
    "name": "ipython",
    "version": 3
   },
   "file_extension": ".py",
   "mimetype": "text/x-python",
   "name": "python",
   "nbconvert_exporter": "python",
   "pygments_lexer": "ipython3",
   "version": "3.7.3"
  }
 },
 "nbformat": 4,
 "nbformat_minor": 2
}
