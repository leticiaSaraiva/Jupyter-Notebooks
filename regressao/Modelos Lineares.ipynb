{
 "cells": [
  {
   "cell_type": "markdown",
   "metadata": {},
   "source": [
    "# Modelos Lineares\n",
    "---\n",
    "\n",
    "Imagine que temos novamente um conjunto de dados de casas e seus preços, conforme apresentado abaixo:"
   ]
  },
  {
   "cell_type": "code",
   "execution_count": 2,
   "metadata": {},
   "outputs": [
    {
     "data": {
      "image/png": "[encoded data removed]",
      "text/plain": [
       "<Figure size 432x288 with 1 Axes>"
      ]
     },
     "metadata": {
      "needs_background": "light"
     },
     "output_type": "display_data"
    }
   ],
   "source": [
    "%matplotlib inline\n",
    "import matplotlib.pyplot as plt\n",
    "import numpy as np\n",
    "\n",
    "H = np.array([[100],\n",
    "            [110],  \n",
    "            [50],  \n",
    "            [70],  \n",
    "            [80],  \n",
    "            [40],\n",
    "            [100],\n",
    "            [55],\n",
    "            [75],\n",
    "            [82]])\n",
    "\n",
    "P = np.array([400000, 410000, 240000, 300000, 310000, 220000, 390000, 280000, 320000, 330000])\n",
    "\n",
    "plt.scatter(H[:,0], P)\n",
    "plt.grid()"
   ]
  },
  {
   "cell_type": "markdown",
   "metadata": {},
   "source": [
    "Olhe para o gráfico acima e veja que forma parece está se formando. Posso não entender de alinhamentos planetários, mas uma coisa posso dizer: esses dados lembram uma reta!\n",
    "\n",
    "Podemos definir uma reta que passa pela origem (ponto (0,0)) e definir o ângulo dela, por exemplo. Vamos tentar!"
   ]
  },
  {
   "cell_type": "code",
   "execution_count": 3,
   "metadata": {},
   "outputs": [
    {
     "data": {
      "image/png": "[encoded data removed]",
      "text/plain": [
       "<Figure size 432x288 with 1 Axes>"
      ]
     },
     "metadata": {
      "needs_background": "light"
     },
     "output_type": "display_data"
    }
   ],
   "source": [
    "from math import sin, cos, radians\n",
    "theta = radians(30)\n",
    "linelength = 200\n",
    "x = linelength * cos(theta)\n",
    "y = linelength * sin(theta) * 3000\n",
    "plt.scatter(H[:,0], P)\n",
    "plt.plot(np.array([0,x]),np.array([0,y]), c='r')\n",
    "plt.xlim((20,120))\n",
    "plt.ylim((0,500000))\n",
    "plt.grid()"
   ]
  },
  {
   "cell_type": "markdown",
   "metadata": {},
   "source": [
    "É, não ficou muito legal. Mas já é um começo!\n",
    "\n",
    "Que outra maneira podemos definir uma reta? \n",
    "    \n",
    "**Que tal definir uma função?**\n",
    "\n",
    "    Opa, parece um plano... Vamos ver no que dá!"
   ]
  },
  {
   "cell_type": "code",
   "execution_count": 4,
   "metadata": {},
   "outputs": [
    {
     "data": {
      "image/png": "[encoded data removed]",
      "text/plain": [
       "<Figure size 432x288 with 1 Axes>"
      ]
     },
     "metadata": {
      "needs_background": "light"
     },
     "output_type": "display_data"
    }
   ],
   "source": [
    "def f(x):\n",
    "    a = 200\n",
    "    b = 20\n",
    "    return a*x + b # f(x) = ax + b\n",
    "\n",
    "plt.scatter(H[:,0], P)\n",
    "plt.plot(np.array(H[:,0]),[f(x) for x in H[:,0]], c='r')\n",
    "plt.xlim((20,120))\n",
    "plt.ylim((0,500000))\n",
    "plt.grid()"
   ]
  },
  {
   "cell_type": "markdown",
   "metadata": {},
   "source": [
    "Não é que ficou interessante? Mas ficar procurando valores para *a* e *b* foi um pouco chato, né? Seria tão legal se houvesse uma maneira *automática* de fazer isso... se pudéssemos fazer o computador *aprender* esses valores...\n",
    "\n",
    "CLARO QUE TEM UMA MANEIRA, GENTE!"
   ]
  },
  {
   "cell_type": "markdown",
   "metadata": {},
   "source": [
    "## Regressão Linear"
   ]
  },
  {
   "cell_type": "markdown",
   "metadata": {},
   "source": [
    "Como acabamos de ver, podemos definir uma função para representar nosso **modelo** de dados:\n",
    "\n",
    "$$ \\hat{y} = b + w \\cdot x $$"
   ]
  },
  {
   "cell_type": "code",
   "execution_count": 5,
   "metadata": {},
   "outputs": [],
   "source": [
    "w = 2000\n",
    "b = 200000\n",
    "\n",
    "def predict(w,b,x):\n",
    "    return b + (w * x)"
   ]
  },
  {
   "cell_type": "markdown",
   "metadata": {},
   "source": [
    "Podemos ter diversas combinações de valores para *w* e *b*. A pergunta é: qual usar?\n",
    "\n",
    "Vamos pensar um pouco:\n",
    "\n",
    "* Para cada par (w,b) que escolhamos, geraremos um novo modelo $\\hat{y}$\n",
    "* Para cada modelo gerado, ele vai estimar valores diferentes para um dado $x_i$\n",
    "* Essa estimativa terá um **erro** em relação ao valor correto $(y - \\hat{y})$\n",
    "* Se eu somar todos o erro de cada $x_i$ de uma combinação (w,b), nós teremos o erro do modelo (w,b) ( **E(w,b)** )\n",
    "* Logo, basta achar uma combinação (w,b) que tenha o menor erro possível!\n",
    "\n",
    "### Tá, mas como que faz isso?\n",
    "\n",
    "Isso, jovem, é um problema de ***otimização***. A solução varia de acordo com o cálculo que você usa para calcular o erro. Uma métrica de erro muito comum utilizada é o *Erro quadrático*, o qual subtrai $y - \\hat{y}$ e eleva o valor ao quadrado.\n",
    "\n",
    "Há um dito popular que diz \"*É errando que se aprende*\". Bom, se é assim, então vamos deixar o computador ficar errando os valores e aprender com isso! Como foi dito, isso é um problema de otimização. Para resolvê-lo, utilizamos a técnica do **gradiente descendente**, a qual, após uma série de *abracadabras* matemáticos, chega na seguinte fórmula:"
   ]
  },
  {
   "cell_type": "markdown",
   "metadata": {},
   "source": [
    "$$ w_{k+1} = w_{k} - \\alpha ( \\frac {2} {N} \\sum_{i=1}^N (-x_i \\cdot (y_i - \\hat{y_i})) ) $$\n",
    "\n",
    "$$ b_{k+1} = b_k - \\alpha (\\frac {2} {N} \\sum_{i=1}^N -(y_i - \\hat{y_i})) $$"
   ]
  },
  {
   "cell_type": "markdown",
   "metadata": {},
   "source": [
    "A primeira fórmula diz o seguinte: para eu aprender um novo valor $w_{k+1}$, vou atualizar o valor $w_k$ que eu já tenho a partir de um gradiente(somatório entre parênteses) utilizando um fator de aprendizagem $\\alpha$. Esse gradiente vêm do cálculo da derivada da função do erro quadrático. O mesmo vale para a segunda fórmula.\n",
    "\n",
    "Sinta-se convidado a buscar na internet a demonstração da fórmula. É um conhecimento bem interessante para caso um dia você tenha de implementar seu próprio gradiente."
   ]
  },
  {
   "cell_type": "markdown",
   "metadata": {},
   "source": [
    "Agora chega de papo e vamos programar!"
   ]
  },
  {
   "cell_type": "code",
   "execution_count": 6,
   "metadata": {},
   "outputs": [],
   "source": [
    "def gradient_descendent(train_X, train_Y, alpha, w = 0, b = 0):\n",
    "    sum_error = 0\n",
    "    elem_times_error = 0\n",
    "    n = len(train_X)\n",
    "    for x,y in zip(train_X, train_Y):\n",
    "        yhat = predict(w, b, x)\n",
    "        error = y - yhat\n",
    "        sum_error += error\n",
    "        elem_times_error += x * error\n",
    "            \n",
    "    b = b + (2 * (alpha * sum_error) / n)\n",
    "    w = w + (2 * (alpha * elem_times_error) / n)\n",
    "    return (w,b)"
   ]
  },
  {
   "cell_type": "markdown",
   "metadata": {},
   "source": [
    "Vamos iniciar nossos valores de $w$ e $b$ como 0 e ver o que temos"
   ]
  },
  {
   "cell_type": "code",
   "execution_count": 7,
   "metadata": {},
   "outputs": [
    {
     "data": {
      "image/png": "[encoded data removed]",
      "text/plain": [
       "<Figure size 432x288 with 1 Axes>"
      ]
     },
     "metadata": {
      "needs_background": "light"
     },
     "output_type": "display_data"
    }
   ],
   "source": [
    "w = 0\n",
    "b = 0\n",
    "plt.scatter(H[:,0], P)\n",
    "plt.plot(np.array(H[:,0]),[predict(w,b,x) for x in H[:,0]], c='r')\n",
    "plt.xlim((20,120))\n",
    "plt.ylim((0,500000))\n",
    "plt.grid()"
   ]
  },
  {
   "cell_type": "markdown",
   "metadata": {},
   "source": [
    "Ok, nosso modelo só estima 0 para todo mundo. Vamos aplicar o cálculo do gradiente descendente uma vez, com um passo de aprendizagem bem pequeno, e ver como que fica"
   ]
  },
  {
   "cell_type": "code",
   "execution_count": 64,
   "metadata": {},
   "outputs": [
    {
     "name": "stdout",
     "output_type": "stream",
     "text": [
      "w: 4087.4601962675697\tb: 59.036255844233395\n"
     ]
    },
    {
     "data": {
      "image/png": "[encoded data removed]",
      "text/plain": [
       "<Figure size 432x288 with 1 Axes>"
      ]
     },
     "metadata": {
      "needs_background": "light"
     },
     "output_type": "display_data"
    }
   ],
   "source": [
    "w,b = gradient_descendent(H[:,0], P, 0.00001, w, b)\n",
    "print(\"w: {}\\tb: {}\".format(w,b))\n",
    "plt.scatter(H[:,0], P)\n",
    "plt.plot(np.array(H[:,0]),[predict(w,b,x) for x in H[:,0]], c='r')\n",
    "plt.xlim((20,120))\n",
    "plt.ylim((0,500000))\n",
    "plt.grid()"
   ]
  },
  {
   "cell_type": "markdown",
   "metadata": {},
   "source": [
    "Já deu uma melhorada, não foi? Continue rodando a célula acima e veja se o modelo aprende!\n",
    "\n",
    "**OBS:** se os valores de $w$ e $b$ começarem a variar muito pouco, ou sejá, o modelo não consegue ficar melhor, dizemos que ele **convergiu**"
   ]
  },
  {
   "cell_type": "markdown",
   "metadata": {},
   "source": [
    "### Legal, mas me diz que já existe algo pronto, pro favor...\n",
    "\n",
    "Claro que existe!"
   ]
  },
  {
   "cell_type": "code",
   "execution_count": 65,
   "metadata": {},
   "outputs": [],
   "source": [
    "from sklearn.linear_model import LinearRegression\n",
    "from sklearn.metrics import mean_squared_error"
   ]
  },
  {
   "cell_type": "markdown",
   "metadata": {},
   "source": [
    "Olha como é fácil criar um modelo de Regressão Linear:"
   ]
  },
  {
   "cell_type": "code",
   "execution_count": 66,
   "metadata": {},
   "outputs": [],
   "source": [
    "model = LinearRegression()"
   ]
  },
  {
   "cell_type": "markdown",
   "metadata": {},
   "source": [
    "Olha como é ainda mais fácil treinar esse modelo!"
   ]
  },
  {
   "cell_type": "code",
   "execution_count": 67,
   "metadata": {},
   "outputs": [
    {
     "data": {
      "text/plain": [
       "LinearRegression(copy_X=True, fit_intercept=True, n_jobs=None, normalize=False)"
      ]
     },
     "execution_count": 67,
     "metadata": {},
     "output_type": "execute_result"
    }
   ],
   "source": [
    "model.fit(H,P)"
   ]
  },
  {
   "cell_type": "markdown",
   "metadata": {},
   "source": [
    "Vamos ver como que fica?"
   ]
  },
  {
   "cell_type": "code",
   "execution_count": 68,
   "metadata": {},
   "outputs": [
    {
     "name": "stdout",
     "output_type": "stream",
     "text": [
      "Mean Error: 10539.347432900071\n"
     ]
    },
    {
     "data": {
      "image/png": "[encoded data removed]",
      "text/plain": [
       "<Figure size 432x288 with 1 Axes>"
      ]
     },
     "metadata": {
      "needs_background": "light"
     },
     "output_type": "display_data"
    }
   ],
   "source": [
    "y_predicted = model.predict(H)\n",
    "plt.scatter(H[:,0], P)\n",
    "plt.plot(np.array(H[:,0]),y_predicted, c='r')\n",
    "plt.xlim((20,120))\n",
    "plt.ylim((0,500000))\n",
    "plt.grid()\n",
    "\n",
    "error = np.sqrt(mean_squared_error(P,y_predicted))\n",
    "print(\"Mean Error: {}\".format(error))"
   ]
  },
  {
   "cell_type": "markdown",
   "metadata": {},
   "source": [
    "Legal, não é?"
   ]
  },
  {
   "cell_type": "markdown",
   "metadata": {},
   "source": [
    "### Pausa para o vinho\n",
    "\n",
    "Calma, claro que não vamos parar essa aula maravilhosa para tomar vinho(embora não pareça uma má ideia), mas que tal se a gente misturasse essas duas coisas lindas juntas: vinhos e regressão linear?\n",
    "\n",
    "No arquivo *winequality-white.csv* temos um conjunto de dados de qualidade do vinho que envolve a previsão da qualidade dos vinhos brancos em uma escala, com medidas químicas de cada vinho. É um problema de classificação multiclasse (algo que veremos mais na frente), mas também pode ser enquadrado como um problema de regressão. O número de observações para cada classe não é equilibrado. Existem 4.898 observações com 11 atributos de entrada e 1 atributo de saída. Os nomes das variáveis são os seguintes:\n",
    "\n",
    "1. Fixed acidity.\n",
    "2. Volatile acidity.\n",
    "3. Citric acid.\n",
    "4. Residual sugar.\n",
    "5. Chlorides.\n",
    "6. Free sulfur dioxide. \n",
    "7. Total sulfur dioxide. \n",
    "8. Density.\n",
    "9. pH.\n",
    "10. Sulphates.\n",
    "11. Alcohol.\n",
    "12. Quality (score between 0 and 10).\n",
    "\n",
    "Que tal você fazer um modelo de regressão linear que seja capaz de aproximar a qualidade dessas bebidas? Ainda vou ser legal e vou deixar os dados carregados na memória para você!"
   ]
  },
  {
   "cell_type": "code",
   "execution_count": 17,
   "metadata": {},
   "outputs": [
    {
     "data": {
      "text/html": [
       "<div>\n",
       "<style scoped>\n",
       "    .dataframe tbody tr th:only-of-type {\n",
       "        vertical-align: middle;\n",
       "    }\n",
       "\n",
       "    .dataframe tbody tr th {\n",
       "        vertical-align: top;\n",
       "    }\n",
       "\n",
       "    .dataframe thead th {\n",
       "        text-align: right;\n",
       "    }\n",
       "</style>\n",
       "<table border=\"1\" class=\"dataframe\">\n",
       "  <thead>\n",
       "    <tr style=\"text-align: right;\">\n",
       "      <th></th>\n",
       "      <th>fixed acidity</th>\n",
       "      <th>volatile acidity</th>\n",
       "      <th>citric acid</th>\n",
       "      <th>residual sugar</th>\n",
       "      <th>chlorides</th>\n",
       "      <th>free sulfur dioxide</th>\n",
       "      <th>total sulfur dioxide</th>\n",
       "      <th>density</th>\n",
       "      <th>pH</th>\n",
       "      <th>sulphates</th>\n",
       "      <th>alcohol</th>\n",
       "      <th>quality</th>\n",
       "    </tr>\n",
       "  </thead>\n",
       "  <tbody>\n",
       "    <tr>\n",
       "      <th>0</th>\n",
       "      <td>7.0</td>\n",
       "      <td>0.27</td>\n",
       "      <td>0.36</td>\n",
       "      <td>20.7</td>\n",
       "      <td>0.045</td>\n",
       "      <td>45.0</td>\n",
       "      <td>170.0</td>\n",
       "      <td>1.0010</td>\n",
       "      <td>3.00</td>\n",
       "      <td>0.45</td>\n",
       "      <td>8.8</td>\n",
       "      <td>6</td>\n",
       "    </tr>\n",
       "    <tr>\n",
       "      <th>1</th>\n",
       "      <td>6.3</td>\n",
       "      <td>0.30</td>\n",
       "      <td>0.34</td>\n",
       "      <td>1.6</td>\n",
       "      <td>0.049</td>\n",
       "      <td>14.0</td>\n",
       "      <td>132.0</td>\n",
       "      <td>0.9940</td>\n",
       "      <td>3.30</td>\n",
       "      <td>0.49</td>\n",
       "      <td>9.5</td>\n",
       "      <td>6</td>\n",
       "    </tr>\n",
       "    <tr>\n",
       "      <th>2</th>\n",
       "      <td>8.1</td>\n",
       "      <td>0.28</td>\n",
       "      <td>0.40</td>\n",
       "      <td>6.9</td>\n",
       "      <td>0.050</td>\n",
       "      <td>30.0</td>\n",
       "      <td>97.0</td>\n",
       "      <td>0.9951</td>\n",
       "      <td>3.26</td>\n",
       "      <td>0.44</td>\n",
       "      <td>10.1</td>\n",
       "      <td>6</td>\n",
       "    </tr>\n",
       "    <tr>\n",
       "      <th>3</th>\n",
       "      <td>7.2</td>\n",
       "      <td>0.23</td>\n",
       "      <td>0.32</td>\n",
       "      <td>8.5</td>\n",
       "      <td>0.058</td>\n",
       "      <td>47.0</td>\n",
       "      <td>186.0</td>\n",
       "      <td>0.9956</td>\n",
       "      <td>3.19</td>\n",
       "      <td>0.40</td>\n",
       "      <td>9.9</td>\n",
       "      <td>6</td>\n",
       "    </tr>\n",
       "    <tr>\n",
       "      <th>4</th>\n",
       "      <td>7.2</td>\n",
       "      <td>0.23</td>\n",
       "      <td>0.32</td>\n",
       "      <td>8.5</td>\n",
       "      <td>0.058</td>\n",
       "      <td>47.0</td>\n",
       "      <td>186.0</td>\n",
       "      <td>0.9956</td>\n",
       "      <td>3.19</td>\n",
       "      <td>0.40</td>\n",
       "      <td>9.9</td>\n",
       "      <td>6</td>\n",
       "    </tr>\n",
       "  </tbody>\n",
       "</table>\n",
       "</div>"
      ],
      "text/plain": [
       "   fixed acidity  volatile acidity  citric acid  residual sugar  chlorides  \\\n",
       "0            7.0              0.27         0.36            20.7      0.045   \n",
       "1            6.3              0.30         0.34             1.6      0.049   \n",
       "2            8.1              0.28         0.40             6.9      0.050   \n",
       "3            7.2              0.23         0.32             8.5      0.058   \n",
       "4            7.2              0.23         0.32             8.5      0.058   \n",
       "\n",
       "   free sulfur dioxide  total sulfur dioxide  density    pH  sulphates  \\\n",
       "0                 45.0                 170.0   1.0010  3.00       0.45   \n",
       "1                 14.0                 132.0   0.9940  3.30       0.49   \n",
       "2                 30.0                  97.0   0.9951  3.26       0.44   \n",
       "3                 47.0                 186.0   0.9956  3.19       0.40   \n",
       "4                 47.0                 186.0   0.9956  3.19       0.40   \n",
       "\n",
       "   alcohol  quality  \n",
       "0      8.8        6  \n",
       "1      9.5        6  \n",
       "2     10.1        6  \n",
       "3      9.9        6  \n",
       "4      9.9        6  "
      ]
     },
     "execution_count": 17,
     "metadata": {},
     "output_type": "execute_result"
    }
   ],
   "source": [
    "import pandas as pd\n",
    "data = pd.read_csv(\"winequality-white.csv\", delimiter=';')\n",
    "data.head()"
   ]
  },
  {
   "cell_type": "code",
   "execution_count": null,
   "metadata": {},
   "outputs": [],
   "source": []
  },
  {
   "cell_type": "markdown",
   "metadata": {},
   "source": [
    "## Regressão Logística\n",
    "\n",
    "(Infelizmente) Não podemos resolver todos os problemas de aprendizagem supervisionada com uma reta. Vejamos o exemplo a seguir"
   ]
  },
  {
   "cell_type": "code",
   "execution_count": 18,
   "metadata": {},
   "outputs": [
    {
     "data": {
      "image/png": "[encoded data removed]",
      "text/plain": [
       "<Figure size 432x288 with 1 Axes>"
      ]
     },
     "metadata": {
      "needs_background": "light"
     },
     "output_type": "display_data"
    }
   ],
   "source": [
    "M = np.array([[10],[12],[15],[17], [33],[35],[37],[39]])\n",
    "V = np.array([0,0,0,0,1,1,1,1])\n",
    "\n",
    "plt.scatter(M, V)\n",
    "plt.grid()"
   ]
  },
  {
   "cell_type": "markdown",
   "metadata": {},
   "source": [
    "Será que dá para traçar uma reta para resolver esse problema?"
   ]
  },
  {
   "cell_type": "code",
   "execution_count": 19,
   "metadata": {},
   "outputs": [
    {
     "data": {
      "text/plain": [
       "[<matplotlib.lines.Line2D at 0x269bcb99128>]"
      ]
     },
     "execution_count": 19,
     "metadata": {},
     "output_type": "execute_result"
    },
    {
     "data": {
      "image/png": "[encoded data removed]",
      "text/plain": [
       "<Figure size 432x288 with 1 Axes>"
      ]
     },
     "metadata": {
      "needs_background": "light"
     },
     "output_type": "display_data"
    }
   ],
   "source": [
    "model = LinearRegression()\n",
    "model.fit(M,V)\n",
    "y_predicted_linear = model.predict(M)\n",
    "plt.scatter(M, V)\n",
    "plt.grid()\n",
    "plt.plot(M,y_predicted_linear, c='r')"
   ]
  },
  {
   "cell_type": "markdown",
   "metadata": {},
   "source": [
    "É, não ficou legal... mas por quê?\n",
    "\n",
    "No eixo Y, temos apenas dois valores: 0 e 1. Ou seja, nosso modelo tem de prever um desses dois valores. Nesse caso, a saída do modelo é *discreta*. Isso é diferente do nosso exemplo anterior, onde tínhamos uma saída *contínua*. Isso quer dizer que lidamos com um problema de ***classificação***!"
   ]
  },
  {
   "cell_type": "markdown",
   "metadata": {},
   "source": [
    "### Tá, o problema é outro agora, mas como que resolve?\n",
    "\n",
    "Bom, nesse caso, teremos de usar outro tipo de função que não seja a linear. Para isso, usaremos a **Função Logística**!"
   ]
  },
  {
   "cell_type": "markdown",
   "metadata": {},
   "source": [
    "$$ \\hat{y} = \\frac {1} {1 + e^{-(b+w \\cdot x)}} $$"
   ]
  },
  {
   "cell_type": "code",
   "execution_count": 20,
   "metadata": {},
   "outputs": [
    {
     "data": {
      "text/plain": [
       "[<matplotlib.lines.Line2D at 0x269bcb1fd68>]"
      ]
     },
     "execution_count": 20,
     "metadata": {},
     "output_type": "execute_result"
    },
    {
     "data": {
      "image/png": "[encoded data removed]",
      "text/plain": [
       "<Figure size 432x288 with 1 Axes>"
      ]
     },
     "metadata": {
      "needs_background": "light"
     },
     "output_type": "display_data"
    }
   ],
   "source": [
    "from math import exp\n",
    "def logistic_function(w,b,x):\n",
    "    return 1 / ( 1 + exp( - ( b+(w*x) ) ) )\n",
    "\n",
    "w = 0.89\n",
    "b = -22.1\n",
    "plt.scatter(M, V)\n",
    "plt.grid()\n",
    "plt.plot(M, [logistic_function(w,b,x) for x in M[:,0]], c='g')\n",
    "plt.plot(M,y_predicted_linear, c='r')"
   ]
  },
  {
   "cell_type": "markdown",
   "metadata": {},
   "source": [
    "Opa, agora ficou legal!\n",
    "\n",
    "Assim como a Regressão Linear, a **Regressão Logística** também pode ser mapeada para um problema de otimização para encontrar o menor erro para $w$ e $b$. A prova é TRIVIAL(só que não) e análoga à do gradiente descendente mostrado anteriormente. Deixamos como exercício pesquisar sobre ela.\n",
    "\n",
    "Agora, vamos utilizar a função para criar o modelo de regressão disponível na biblioteca scikit learn."
   ]
  },
  {
   "cell_type": "code",
   "execution_count": 21,
   "metadata": {},
   "outputs": [],
   "source": [
    "from sklearn.linear_model import LogisticRegression"
   ]
  },
  {
   "cell_type": "code",
   "execution_count": 22,
   "metadata": {},
   "outputs": [
    {
     "name": "stderr",
     "output_type": "stream",
     "text": [
      "C:\\Users\\Livia\\Miniconda3\\lib\\site-packages\\sklearn\\linear_model\\logistic.py:432: FutureWarning: Default solver will be changed to 'lbfgs' in 0.22. Specify a solver to silence this warning.\n",
      "  FutureWarning)\n"
     ]
    },
    {
     "data": {
      "text/plain": [
       "LogisticRegression(C=1e+42, class_weight=None, dual=False, fit_intercept=True,\n",
       "                   intercept_scaling=1, l1_ratio=None, max_iter=100,\n",
       "                   multi_class='warn', n_jobs=None, penalty='l2',\n",
       "                   random_state=None, solver='warn', tol=0.0001, verbose=0,\n",
       "                   warm_start=False)"
      ]
     },
     "execution_count": 22,
     "metadata": {},
     "output_type": "execute_result"
    }
   ],
   "source": [
    "model = LogisticRegression(penalty=\"l2\", C=1e42) #estes argumentos desabilitam a regularização\n",
    "model.fit(M,V)"
   ]
  },
  {
   "cell_type": "markdown",
   "metadata": {},
   "source": [
    "Vamos ver se fica legal?"
   ]
  },
  {
   "cell_type": "code",
   "execution_count": 23,
   "metadata": {},
   "outputs": [
    {
     "data": {
      "text/plain": [
       "[<matplotlib.lines.Line2D at 0x269be794d30>]"
      ]
     },
     "execution_count": 23,
     "metadata": {},
     "output_type": "execute_result"
    },
    {
     "data": {
      "image/png": "[encoded data removed]",
      "text/plain": [
       "<Figure size 432x288 with 1 Axes>"
      ]
     },
     "metadata": {
      "needs_background": "light"
     },
     "output_type": "display_data"
    }
   ],
   "source": [
    "y_predicted = model.predict(M)\n",
    "plt.scatter(M, V)\n",
    "plt.grid()\n",
    "plt.plot(M,y_predicted, c='g')\n",
    "plt.plot(M,y_predicted_linear, c='r')"
   ]
  },
  {
   "cell_type": "markdown",
   "metadata": {},
   "source": [
    "### Tá, mas você disse que a aula era de modelos lineares. A função logística não é uma linha, pelo menos não uma reta. Que pegadinha é essa?\n",
    "\n",
    "Não tem pegadinha nenhuma, é só uma questão de *perspectiva*. Se tentarmos visualizar os dados no espaço é como se houvesse uma *linha* separando os conjuntos de dados! Para ser mais algébrico, a função logística define um *hiperplano* que separa os dados!\n",
    "\n",
    "Para ficar mais simples de entender, dê uma olhada na figura abaixo:"
   ]
  },
  {
   "cell_type": "code",
   "execution_count": 24,
   "metadata": {},
   "outputs": [
    {
     "data": {
      "image/png": "[encoded data removed]",
      "text/plain": [
       "<Figure size 432x288 with 1 Axes>"
      ]
     },
     "metadata": {
      "needs_background": "light"
     },
     "output_type": "display_data"
    }
   ],
   "source": [
    "points_x=[x for x in range(10,41)]\n",
    "\n",
    "line_bias = model.intercept_\n",
    "line_w = model.coef_.T\n",
    "points_y=[(line_w[0]*x+line_bias) for x in points_x]\n",
    "plt.plot(points_x, points_y, 'k')\n",
    "plt.scatter(M,V,c=[\"b\" if v == 0 else \"r\" for v in V])\n",
    "plt.xlim((8,41))\n",
    "plt.ylim((-0.2,1.2))\n",
    "plt.grid()"
   ]
  },
  {
   "cell_type": "markdown",
   "metadata": {},
   "source": [
    "A linha preta mostra a **superfície de decisão** gerada pela função logística aprendida: tudo o que está à direita da linha é classificado como vermelho, enquanto o que está à esquerda, azul."
   ]
  },
  {
   "cell_type": "markdown",
   "metadata": {},
   "source": [
    "### Se for dirijir, não beba. Se for beber, beba vinho"
   ]
  },
  {
   "cell_type": "markdown",
   "metadata": {},
   "source": [
    "Usando o dataset disponível e a técnica de regressão linear, resolva o problema de estimar a qualidade dos vinhos."
   ]
  },
  {
   "cell_type": "code",
   "execution_count": null,
   "metadata": {},
   "outputs": [],
   "source": []
  }
 ],
 "metadata": {
  "kernelspec": {
   "display_name": "Python 3",
   "language": "python",
   "name": "python3"
  },
  "language_info": {
   "codemirror_mode": {
    "name": "ipython",
    "version": 3
   },
   "file_extension": ".py",
   "mimetype": "text/x-python",
   "name": "python",
   "nbconvert_exporter": "python",
   "pygments_lexer": "ipython3",
   "version": "3.7.3"
  }
 },
 "nbformat": 4,
 "nbformat_minor": 2
}
